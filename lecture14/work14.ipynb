{
 "cells": [
  {
   "cell_type": "markdown",
   "id": "01e1d81a-3b0a-4a55-bc8d-3c77afec7e20",
   "metadata": {},
   "source": [
    "# Double pendulum"
   ]
  },
  {
   "cell_type": "code",
   "execution_count": 1,
   "id": "55bcd751-d2a3-4b6b-8569-1efcce248199",
   "metadata": {},
   "outputs": [
    {
     "ename": "LoadError",
     "evalue": "ParseError:\n\u001b[90m# Error @ \u001b[0;0m\u001b]8;;file:///workspaces/phys2200-lectures-CalebGE/lecture14/In[1]#2:1\u001b\\\u001b[90mIn[1]:2:1\u001b[0;0m\u001b]8;;\u001b\\\n\n\u001b[48;2;120;70;70m]\u001b[0;0m add OrdinaryDiffEqTsit5\n\u001b[90m╙ ── \u001b[0;0m\u001b[91munexpected `]`\u001b[0;0m",
     "output_type": "error",
     "traceback": [
      "ParseError:\n\u001b[90m# Error @ \u001b[0;0m\u001b]8;;file:///workspaces/phys2200-lectures-CalebGE/lecture14/In[1]#2:1\u001b\\\u001b[90mIn[1]:2:1\u001b[0;0m\u001b]8;;\u001b\\\n\n\u001b[48;2;120;70;70m]\u001b[0;0m add OrdinaryDiffEqTsit5\n\u001b[90m╙ ── \u001b[0;0m\u001b[91munexpected `]`\u001b[0;0m",
      "",
      "Stacktrace:",
      " [1] top-level scope",
      "\u001b[90m   @\u001b[39m \u001b[90m\u001b[4mIn[1]:2\u001b[24m\u001b[39m"
     ]
    }
   ],
   "source": [
    "\n",
    "] add OrdinaryDiffEqTsit5"
   ]
  },
  {
   "cell_type": "code",
   "execution_count": 2,
   "id": "b38ee911-672c-47e9-a249-f6c83ec12c29",
   "metadata": {},
   "outputs": [
    {
     "name": "stderr",
     "output_type": "stream",
     "text": [
      "\u001b[32m\u001b[1m   Resolving\u001b[22m\u001b[39m package versions...\n",
      "\u001b[32m\u001b[1m  No Changes\u001b[22m\u001b[39m to `/workspaces/phys2200-lectures-CalebGE/Project.toml`\n",
      "\u001b[32m\u001b[1m  No Changes\u001b[22m\u001b[39m to `/workspaces/phys2200-lectures-CalebGE/Manifest.toml`\n"
     ]
    }
   ],
   "source": [
    "] add Printf"
   ]
  },
  {
   "cell_type": "code",
   "execution_count": 3,
   "id": "d26b7860-7223-4982-affe-2ad6ae97bb00",
   "metadata": {},
   "outputs": [
    {
     "name": "stderr",
     "output_type": "stream",
     "text": [
      "\u001b[32m\u001b[1m   Resolving\u001b[22m\u001b[39m package versions...\n",
      "\u001b[32m\u001b[1m  No Changes\u001b[22m\u001b[39m to `/workspaces/phys2200-lectures-CalebGE/Project.toml`\n",
      "\u001b[32m\u001b[1m  No Changes\u001b[22m\u001b[39m to `/workspaces/phys2200-lectures-CalebGE/Manifest.toml`\n"
     ]
    }
   ],
   "source": [
    "] add Colors"
   ]
  },
  {
   "cell_type": "code",
   "execution_count": 4,
   "id": "b3dad16c-2c10-4414-8918-09563908fcff",
   "metadata": {},
   "outputs": [],
   "source": [
    "using OrdinaryDiffEqTsit5"
   ]
  },
  {
   "cell_type": "code",
   "execution_count": 5,
   "id": "507b287f-1167-41b1-850e-cab9ef67833f",
   "metadata": {},
   "outputs": [],
   "source": [
    "using Printf"
   ]
  },
  {
   "cell_type": "code",
   "execution_count": 6,
   "id": "f0658c55-0da5-41b3-a07c-b58748740e82",
   "metadata": {},
   "outputs": [],
   "source": [
    "using PyPlot"
   ]
  },
  {
   "cell_type": "code",
   "execution_count": 7,
   "id": "dc5a68ef-fdf1-4456-b795-4b491eccbb27",
   "metadata": {},
   "outputs": [],
   "source": [
    "using Colors"
   ]
  },
  {
   "cell_type": "code",
   "execution_count": 8,
   "id": "0b5867a5-0e02-4e21-9bfd-b829c105b6e0",
   "metadata": {},
   "outputs": [
    {
     "data": {
      "text/plain": [
       "doublependulum!"
      ]
     },
     "execution_count": 8,
     "metadata": {},
     "output_type": "execute_result"
    }
   ],
   "source": [
    "\n",
    "\"\"\"\n",
    "\n",
    "    doublependulum!(dudt, u, p, t)\n",
    "\n",
    "........\n",
    "\"\"\"\n",
    "function doublependulum!(dudt, u, p, t)\n",
    "    # unpack variables and parameters\n",
    "    theta1 = u[1]\n",
    "    theta2 = u[2]\n",
    "    dtheta1dt = u[3]\n",
    "    dtheta2dt = u[4]\n",
    "    κ, ν = p\n",
    "    \n",
    "    sn, cs = sincos(theta1 - theta2)\n",
    "    a1 = κ*cs\n",
    "    a2 = ν*cs\n",
    "    γ = 1/(1.0 - a1*a2)\n",
    "    \n",
    "    f1 = -κ*sn*dtheta2dt^2 - sin(theta1)\n",
    "    f2 =  ν*(sn*dtheta1dt^2 - ν*sin(theta2))\n",
    "\n",
    "    dudt[1] = u[3]\n",
    "    dudt[2] = u[4]\n",
    "    dudt[3] = γ*(f1 - a1*f2)\n",
    "    dudt[4] = γ*(f2 - a2*f1)\n",
    "    \n",
    "    return nothing\n",
    "end"
   ]
  },
  {
   "cell_type": "code",
   "execution_count": 9,
   "id": "4497f842-986e-4ee3-ad4f-e48bde1f2f78",
   "metadata": {},
   "outputs": [],
   "source": [
    "l1 = 1.0  # length of pendulum1\n",
    "l2 = 1.0  # length of pendulum2\n",
    "m1 = 1.0  # mass of pendulum1\n",
    "m2 = 1.0; # mass of pendulum2"
   ]
  },
  {
   "cell_type": "code",
   "execution_count": 10,
   "id": "f4faf4e1-98d6-4674-b253-78f8bafa1288",
   "metadata": {},
   "outputs": [],
   "source": [
    "ν = l1/l2\n",
    "κ = 1 / ν * m2 / (m1 + m2)\n",
    "# Pack the parameters\n",
    "p = (κ, ν);"
   ]
  },
  {
   "cell_type": "code",
   "execution_count": 11,
   "id": "b23948b9-bbc9-4faf-adde-3363ef9f1fa8",
   "metadata": {},
   "outputs": [],
   "source": [
    "tspan = (0.0, 50.0)\n",
    "initial = [pi, pi/100, 0.0, 0.0];"
   ]
  },
  {
   "cell_type": "code",
   "execution_count": 12,
   "id": "5cdc272c-51d6-4c74-849e-7368c772a9e0",
   "metadata": {},
   "outputs": [],
   "source": [
    "prob = ODEProblem(doublependulum!, initial, tspan, p);"
   ]
  },
  {
   "cell_type": "code",
   "execution_count": 13,
   "id": "ab0ef4e8-1d7c-4bba-a8bc-95f89f586950",
   "metadata": {},
   "outputs": [],
   "source": [
    "sol = solve(prob, Tsit5(), abstol=1e-7, reltol=1e-7);"
   ]
  },
  {
   "cell_type": "code",
   "execution_count": 14,
   "id": "71368f17-1743-4445-ad60-e8d77997b22b",
   "metadata": {},
   "outputs": [],
   "source": [
    "np = 2001\n",
    "t = range(tspan[1], tspan[2], np)\n",
    "sl = sol(t);"
   ]
  },
  {
   "cell_type": "code",
   "execution_count": 15,
   "id": "0355cefb-0527-42a8-937e-e4d78a61eedb",
   "metadata": {},
   "outputs": [],
   "source": [
    "theta1 = sl[1, :]\n",
    "theta2 = sl[2, :];"
   ]
  },
  {
   "cell_type": "code",
   "execution_count": 16,
   "id": "588a0f6c-66cc-457b-be8c-db2e02f1eea9",
   "metadata": {},
   "outputs": [],
   "source": [
    "x1 =  l1 .* sin.(theta1)\n",
    "y1 = -l1 .* cos.(theta1)\n",
    "x2 = x1 .+ l2 .* sin.(theta2)\n",
    "y2 = y1 .- l2 .* cos.(theta2);"
   ]
  },
  {
   "cell_type": "code",
   "execution_count": 17,
   "id": "1cc5eba2-6590-40c0-b81e-80b278699027",
   "metadata": {},
   "outputs": [],
   "source": [
    "\"\"\"\n",
    "    snapshot_ft(nt, pts_disp, xl, xr, yb, yt, t, x1, y1, x2, y2)\n",
    "\n",
    "Display the current positions (x1[nt], y1[nt]) and (x2[nt], y2(nt]), and \n",
    "the trajectories' fading tails - the most recent pts_disp points\n",
    "\"\"\"\n",
    "function snapshot_ft(nt, pts_disp, box, t, x1, y1, x2, y2)\n",
    "    nt_start = max(1, nt-pts_disp)\n",
    "    xl, xr, yb, yt = box\n",
    "    axis(\"square\")\n",
    "    xlim(xl, xr)\n",
    "    ylim(yb, yt)\n",
    "    titl = @sprintf(\"Double pendulum t = %5.2f .. %5.2f\",\n",
    "                    t[nt_start], t[nt])\n",
    "    title(titl, family=\"monospace\")\n",
    "    xlabel(L\"$x$\")\n",
    "    ylabel(L\"$y$\")\n",
    "    grid(true)\n",
    "\n",
    "    # pivot\n",
    "    plot(0.0, 0.0, color=\"black\", marker=\"x\", markersize=5.0)\n",
    "\n",
    "    # two rods\n",
    "    plot([0.0, x1[nt],x2[nt]], [0.0, y1[nt], y2[nt]], color=\"black\")\n",
    "\n",
    "    # mass 1\n",
    "    c1 = \"green\"\n",
    "    plot(x1[nt], y1[nt], color=c1, marker=\"o\", markersize=5.0)\n",
    "    \n",
    "    # mass 2\n",
    "    c2 = \"blue\"\n",
    "    plot(x2[nt], y2[nt], color=c2, marker=\"o\", markersize=5.0)\n",
    "\n",
    "    # fading tail trajectory of mass 2\n",
    "    c2p = parse(RGBA, c2)\n",
    "    for i = nt_start:nt-1\n",
    "        transp = 1.0 - ((nt-i-1)/(pts_disp-1))^2\n",
    "        cc = (c2p.r, c2p.g, c2p.b, transp)\n",
    "        plot([x2[i], x2[i+1]], [y2[i], y2[i+1]], color=cc, linewidth=0.5)\n",
    "    end\n",
    "    return nothing\n",
    "end;"
   ]
  },
  {
   "cell_type": "code",
   "execution_count": 18,
   "id": "d0fc09d9-0238-4ad3-9bd9-a77deef05344",
   "metadata": {},
   "outputs": [],
   "source": [
    "axis_lim = (l1 + l2)*1.2\n",
    "xl = -axis_lim\n",
    "xr = -xl\n",
    "yb = -axis_lim\n",
    "yt = -yb\n",
    "box = (xl, xr, yb, yt);"
   ]
  },
  {
   "cell_type": "code",
   "execution_count": 19,
   "id": "fbff3ec0-2e9f-4e4e-b0bf-f0375f5f947b",
   "metadata": {},
   "outputs": [
    {
     "data": {
      "text/plain": [
       "200"
      ]
     },
     "execution_count": 19,
     "metadata": {},
     "output_type": "execute_result"
    }
   ],
   "source": [
    "# Define the length of the trajectory's tail\n",
    "f = 0.1                      # Fraction of displayed points\n",
    "pts_disp = round(Int, f*np)  # Number of displayed points"
   ]
  },
  {
   "cell_type": "code",
   "execution_count": 20,
   "id": "93b90399-3189-46bf-8d65-5602b8ce7f38",
   "metadata": {},
   "outputs": [
    {
     "data": {
      "image/png": "[encoded data removed]",
      "text/plain": [
       "Figure(PyObject <Figure size 640x480 with 1 Axes>)"
      ]
     },
     "metadata": {},
     "output_type": "display_data"
    }
   ],
   "source": [
    "fig = figure()\n",
    "for nt = 1:10:np\n",
    "    snapshot_ft(nt, pts_disp, box, t, x1, y1, x2, y2)\n",
    "    display(fig)\n",
    "    IJulia.clear_output(true)\n",
    "    clf()\n",
    "end"
   ]
  },
  {
   "cell_type": "code",
   "execution_count": 21,
   "id": "38d4b3c9-b26e-447e-92e2-ea33a8250600",
   "metadata": {},
   "outputs": [
    {
     "data": {
      "text/plain": [
       "linear_regression"
      ]
     },
     "execution_count": 21,
     "metadata": {},
     "output_type": "execute_result"
    }
   ],
   "source": [
    "\"\"\"\n",
    "    alpha, beta, sigma = linear_regression(x, y)\n",
    "\n",
    "Least square fit y = alpha + beta x. sigma is the standard error of beta\n",
    "\"\"\"\n",
    "function linear_regression(x, y)\n",
    "    np = length(x)\n",
    "    xbar = sum(x)/np\n",
    "    ybar = sum(y)/np\n",
    "    x2 = sum((x .- xbar) .^ 2)\n",
    "    beta = sum((y .- ybar) .* (x .- xbar))/x2\n",
    "    alpha = ybar - beta*xbar\n",
    "    sigma = sqrt(sum((y .- alpha .- beta .* x) .^ 2)/((np - 2)*x2))\n",
    "    return alpha, beta, sigma\n",
    "end"
   ]
  },
  {
   "cell_type": "code",
   "execution_count": 23,
   "id": "5713319e-f1e5-4efe-aa88-30670a0a35c2",
   "metadata": {},
   "outputs": [],
   "source": [
    "xmin = 0.0\n",
    "xmax = 10.0\n",
    "np = 200\n",
    "sc = 1.5\n",
    "x = range(xmin, xmax, np)\n",
    "y = 2 .* x .+ sc .* randn(np);"
   ]
  },
  {
   "cell_type": "code",
   "execution_count": 25,
   "id": "4ed263ec-c9d0-4bf8-b0db-2448f0f6cf7c",
   "metadata": {},
   "outputs": [
    {
     "data": {
      "text/plain": [
       "(-0.2407865108022751, 2.0304210152470468, 0.034751510152933165)"
      ]
     },
     "execution_count": 25,
     "metadata": {},
     "output_type": "execute_result"
    }
   ],
   "source": [
    "alpha1, beta1, sigma1 = linear_regression(x, y)"
   ]
  },
  {
   "cell_type": "code",
   "execution_count": 27,
   "id": "649c24ec-b3ee-4766-96e6-0a5d1c707fb6",
   "metadata": {},
   "outputs": [
    {
     "data": {
      "image/png": "[encoded data removed]",
      "text/plain": [
       "Figure(PyObject <Figure size 640x480 with 1 Axes>)"
      ]
     },
     "metadata": {},
     "output_type": "display_data"
    }
   ],
   "source": [
    "plot(x, y, linestyle=\"none\", marker=\".\", label=\"noisy data\")\n",
    "plot(x, alpha .+ beta .* x, linestyle=\"solid\", label=\"linear lsq fit\")\n",
    "\n",
    "grid(true)\n",
    "xlabel(\"x\")\n",
    "ylabel(\"y\")\n",
    "title(\"Linear regression\")\n",
    "legend();"
   ]
  },
  {
   "cell_type": "code",
   "execution_count": null,
   "id": "a3f0204c-f8b0-4f38-b4fd-cdd7e7c9e043",
   "metadata": {},
   "outputs": [],
   "source": []
  }
 ],
 "metadata": {
  "kernelspec": {
   "display_name": "Julia 1.11.6",
   "language": "julia",
   "name": "julia-1.11"
  },
  "language_info": {
   "file_extension": ".jl",
   "mimetype": "application/julia",
   "name": "julia",
   "version": "1.11.6"
  }
 },
 "nbformat": 4,
 "nbformat_minor": 5
}
